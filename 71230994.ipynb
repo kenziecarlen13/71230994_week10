{
 "cells": [
  {
   "cell_type": "code",
   "execution_count": 5,
   "metadata": {},
   "outputs": [
    {
     "name": "stdout",
     "output_type": "stream",
     "text": [
      "Nilai tertinggi pertama adalah: 98\n",
      "Nilai tertinggi kedua adalah: 87\n",
      "Nilai tertinggi ketiga adalah: 77\n"
     ]
    }
   ],
   "source": [
    "#10.1\n",
    "nilai = [25, 30, 20, 44, 40, 66, 77, 70, 98, 87]; nilai.sort()\n",
    "print(f\"Nilai tertinggi pertama adalah: {nilai[-1]}\\nNilai tertinggi kedua adalah: {nilai[-2]}\\nNilai tertinggi ketiga adalah: {nilai[-3]}\")"
   ]
  },
  {
   "cell_type": "code",
   "execution_count": 41,
   "metadata": {},
   "outputs": [
    {
     "name": "stdout",
     "output_type": "stream",
     "text": [
      "Nilai tertinggi: 4\n",
      "Nilai terendah: 1\n"
     ]
    }
   ],
   "source": [
    "#10.2\n",
    "'''\n",
    "meminta inputan dari user(integer)\n",
    "done == selesai lalu menampilkan nilai tertinggi dan terendah \n",
    "'''\n",
    "kumpulan_angka = []\n",
    "while True:\n",
    "    input_angka = input(\"Masukkan angka atau ketik 'done' untuk selesai: \")\n",
    "    if input_angka.lower() == \"done\":\n",
    "        print(f\"Nilai tertinggi: {max(kumpulan_angka)}\\nNilai terendah: {min(kumpulan_angka)}\")\n",
    "        break\n",
    "    else:\n",
    "        try:\n",
    "            angka = int(input_angka)\n",
    "            kumpulan_angka.append(angka)\n",
    "        except:\n",
    "            print(\"Inputan ga valid. masukkan angka atau ketik 'done' untuk melihat hasil.\")"
   ]
  },
  {
   "cell_type": "code",
   "execution_count": 39,
   "metadata": {},
   "outputs": [
    {
     "name": "stdout",
     "output_type": "stream",
     "text": [
      "==ISI BERITA==\n",
      " Akhir-akhir ini, kejahatan seksual terhadap perempuan dan remaja semakin marak terjadi. Rata-rata kasusnya terjadi di lingkungan sekolah, kampus bahkan pesantren. Menurut Komisioner Komnas Perempuan, Siti Aminah Tardi, data kasus kejahatan seksual di lingkungan pendidikan yang diadukan ke Komnas Perempuan tahun 2015-2020, pesantren menempati urutan kedua setelah universitas. Kasus-kasus kejahatan seksual yang terungkap misalnya di Jawa Barat, Jombang, Malang, Ciputat, Depok, Merauke dan masih banyak lagi.\n",
      "==KATA KATA UNIK==\n",
      " ['Akhir-akhir', 'ini', 'kejahatan', 'seksual', 'terhadap', 'perempuan', 'dan', 'remaja', 'semakin', 'marak', 'terjadi', 'Rata-rata', 'kasusnya', 'di', 'lingkungan', 'sekolah', 'kampus', 'bahkan', 'pesantren', 'Menurut', 'Komisioner', 'Komnas', 'Perempuan', 'Siti', 'Aminah', 'Tardi', 'data', 'kasus', 'pendidikan', 'yang', 'diadukan', 'ke', 'tahun', '2015-2020', 'menempati', 'urutan', 'kedua', 'setelah', 'universitas', 'Kasus-kasus', 'terungkap', 'misalnya', 'Jawa', 'Barat', 'Jombang', 'Malang', 'Ciputat', 'Depok', 'Merauke', 'masih', 'banyak', 'lagi']\n"
     ]
    }
   ],
   "source": [
    "#10.3\n",
    "with open(\"Berita.txt\", 'r') as file:\n",
    "    lines = file.readline()\n",
    "    words = lines.split()\n",
    "    unik = []\n",
    "    for word in words:\n",
    "        if word not in unik:\n",
    "            unik.append(word.strip(',.?!'))\n",
    "    print(\"==ISI BERITA==\\n\", lines)  \n",
    "    print(\"==KATA KATA UNIK==\\n\", unik)"
   ]
  }
 ],
 "metadata": {
  "kernelspec": {
   "display_name": "base",
   "language": "python",
   "name": "python3"
  },
  "language_info": {
   "codemirror_mode": {
    "name": "ipython",
    "version": 3
   },
   "file_extension": ".py",
   "mimetype": "text/x-python",
   "name": "python",
   "nbconvert_exporter": "python",
   "pygments_lexer": "ipython3",
   "version": "3.11.5"
  }
 },
 "nbformat": 4,
 "nbformat_minor": 2
}
